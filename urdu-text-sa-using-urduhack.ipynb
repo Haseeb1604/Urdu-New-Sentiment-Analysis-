{
 "cells": [
  {
   "cell_type": "code",
   "execution_count": 1,
   "metadata": {
    "_cell_guid": "b1076dfc-b9ad-4769-8c92-a6c4dae69d19",
    "_uuid": "8f2839f25d086af736a60e9eeb907d3b93b6e0e5"
   },
   "outputs": [],
   "source": [
    "import os\n",
    "import pandas as pd\n",
    "import numpy as np\n",
    "\n",
    "import re\n",
    "import nltk\n",
    "\n",
    "# Import Plotting Libararies\n",
    "import seaborn as sns\n",
    "import matplotlib.pyplot as plt\n",
    "\n",
    "# Import Data Preprocessing Libraries \n",
    "from sklearn.preprocessing import LabelEncoder\n",
    "from sklearn.model_selection import train_test_split\n",
    "from sklearn.feature_extraction.text import TfidfVectorizer, CountVectorizer\n",
    "from sklearn.feature_extraction import text\n",
    "\n",
    "# Machine Learning Models\n",
    "from sklearn import svm  \n",
    "from sklearn.naive_bayes import GaussianNB\n",
    "from sklearn.linear_model import LogisticRegression\n",
    "from sklearn.tree import DecisionTreeClassifier\n",
    "from sklearn.ensemble import RandomForestClassifier\n",
    "from sklearn.ensemble import GradientBoostingClassifier\n",
    "from sklearn.ensemble import AdaBoostClassifier\n",
    "import xgboost as xgb\n",
    "\n",
    "# Model Evaluation Libraries\n",
    "from sklearn.metrics import classification_report, confusion_matrix"
   ]
  },
  {
   "cell_type": "markdown",
   "metadata": {},
   "source": [
    "### 1.1 Urduhack\n",
    "\n",
    "Urduhack is a NLP library for urdu language. It comes with a lot of battery included features to help you process Urdu data in the easiest way possible.\n",
    " \n",
    "https://docs.urduhack.com/en/stable/\n",
    "\n"
   ]
  },
  {
   "cell_type": "code",
   "execution_count": 2,
   "metadata": {},
   "outputs": [],
   "source": [
    "import urduhack\n",
    "urduhack.download()\n",
    "from urduhack.normalization import normalize\n",
    "from urduhack import preprocessing as ppro"
   ]
  },
  {
   "cell_type": "markdown",
   "metadata": {},
   "source": [
    "## 2. Load Dataset\n",
    "Dataset is available in 2 sets:\n",
    "* Training\n",
    "* Testing"
   ]
  },
  {
   "cell_type": "code",
   "execution_count": 3,
   "metadata": {},
   "outputs": [
    {
     "data": {
      "text/plain": [
       "(                                              review sentiment\n",
       " 0  میں نے اسے 80 کی دہائی کے وسط میں ایک کیبل گائ...  positive\n",
       " 1  چونکہ میں نے 80 کی دہائی میں انسپکٹر گیجٹ کارٹ...  negative\n",
       " 2  ایک ایسے معاشرے کی حالت کے بارے میں تعجب کرتا ...  positive\n",
       " 3  مفید البرٹ پیون کی طرف سے ایک اور ردی کی ٹوکری...  negative\n",
       " 4  یہ کولمبو ہے جس کی ہدایتکاری اپنے کیریئر کے اب...  positive,\n",
       "                                               review sentiment\n",
       " 0  یہ بے گھر خواتین کے بارے میں ایک دستاویزی فلم ...  negative\n",
       " 1  بالکل بھی اچھ ،ی کام نہیں کیا گیا ، پوری فلم ص...  negative\n",
       " 2  یہ عجیب بات ہے کہ کچھ لوگوں کا کیا حشر ہوتا ہے...  negative\n",
       " 3  اور یہ خاص طور پر وکیلوں اور پولیس اہلکاروں کے...  positive\n",
       " 4  پہلے ، ایک وضاحت: میری سرخی کے باوجود ، میں اس...  positive)"
      ]
     },
     "execution_count": 3,
     "metadata": {},
     "output_type": "execute_result"
    }
   ],
   "source": [
    "train_data = pd.read_csv(\"./Urdu_Reviews/train.csv\")\n",
    "test_data = pd.read_csv(\"./Urdu_Reviews/test.csv\")\n",
    "\n",
    "train_data.head(), test_data.head()"
   ]
  },
  {
   "cell_type": "code",
   "execution_count": 4,
   "metadata": {},
   "outputs": [
    {
     "name": "stdout",
     "output_type": "stream",
     "text": [
      "(40000, 2)\n"
     ]
    }
   ],
   "source": [
    "# Combine Both Files to Preprocess \n",
    "# data =  pd.concat([train_data, test_data]).reset_index(drop=True)\n",
    "data = train_data\n",
    "print(data.shape)\n"
   ]
  },
  {
   "cell_type": "markdown",
   "metadata": {},
   "source": [
    "Make Copy of dataset so we dont have to load again and again"
   ]
  },
  {
   "cell_type": "code",
   "execution_count": 5,
   "metadata": {},
   "outputs": [
    {
     "data": {
      "text/html": [
       "<div>\n",
       "<style scoped>\n",
       "    .dataframe tbody tr th:only-of-type {\n",
       "        vertical-align: middle;\n",
       "    }\n",
       "\n",
       "    .dataframe tbody tr th {\n",
       "        vertical-align: top;\n",
       "    }\n",
       "\n",
       "    .dataframe thead th {\n",
       "        text-align: right;\n",
       "    }\n",
       "</style>\n",
       "<table border=\"1\" class=\"dataframe\">\n",
       "  <thead>\n",
       "    <tr style=\"text-align: right;\">\n",
       "      <th></th>\n",
       "      <th>review</th>\n",
       "      <th>sentiment</th>\n",
       "    </tr>\n",
       "  </thead>\n",
       "  <tbody>\n",
       "    <tr>\n",
       "      <th>0</th>\n",
       "      <td>میں نے اسے 80 کی دہائی کے وسط میں ایک کیبل گائ...</td>\n",
       "      <td>positive</td>\n",
       "    </tr>\n",
       "    <tr>\n",
       "      <th>1</th>\n",
       "      <td>چونکہ میں نے 80 کی دہائی میں انسپکٹر گیجٹ کارٹ...</td>\n",
       "      <td>negative</td>\n",
       "    </tr>\n",
       "    <tr>\n",
       "      <th>2</th>\n",
       "      <td>ایک ایسے معاشرے کی حالت کے بارے میں تعجب کرتا ...</td>\n",
       "      <td>positive</td>\n",
       "    </tr>\n",
       "    <tr>\n",
       "      <th>3</th>\n",
       "      <td>مفید البرٹ پیون کی طرف سے ایک اور ردی کی ٹوکری...</td>\n",
       "      <td>negative</td>\n",
       "    </tr>\n",
       "    <tr>\n",
       "      <th>4</th>\n",
       "      <td>یہ کولمبو ہے جس کی ہدایتکاری اپنے کیریئر کے اب...</td>\n",
       "      <td>positive</td>\n",
       "    </tr>\n",
       "    <tr>\n",
       "      <th>...</th>\n",
       "      <td>...</td>\n",
       "      <td>...</td>\n",
       "    </tr>\n",
       "    <tr>\n",
       "      <th>39995</th>\n",
       "      <td>اگرچہ میں نے سب سے زیادہ تکنیکی طور پر اعلی در...</td>\n",
       "      <td>positive</td>\n",
       "    </tr>\n",
       "    <tr>\n",
       "      <th>39996</th>\n",
       "      <td>اس فلم نے مجھے حیرت سے دوچار کردیا۔ میں اسے عا...</td>\n",
       "      <td>positive</td>\n",
       "    </tr>\n",
       "    <tr>\n",
       "      <th>39997</th>\n",
       "      <td>مجھے افسوس ہے ، لیکن یہاں تک کہ ٹی جے ہوکر کے ...</td>\n",
       "      <td>negative</td>\n",
       "    </tr>\n",
       "    <tr>\n",
       "      <th>39998</th>\n",
       "      <td>اس فلم کو اکیڈمی کے ایوارڈ کے لئے نہیں سمجھا ج...</td>\n",
       "      <td>positive</td>\n",
       "    </tr>\n",
       "    <tr>\n",
       "      <th>39999</th>\n",
       "      <td>ٹاک ریڈیو کسی شخص کو حادثاتی طور پر زندگی کے د...</td>\n",
       "      <td>positive</td>\n",
       "    </tr>\n",
       "  </tbody>\n",
       "</table>\n",
       "<p>40000 rows × 2 columns</p>\n",
       "</div>"
      ],
      "text/plain": [
       "                                                  review sentiment\n",
       "0      میں نے اسے 80 کی دہائی کے وسط میں ایک کیبل گائ...  positive\n",
       "1      چونکہ میں نے 80 کی دہائی میں انسپکٹر گیجٹ کارٹ...  negative\n",
       "2      ایک ایسے معاشرے کی حالت کے بارے میں تعجب کرتا ...  positive\n",
       "3      مفید البرٹ پیون کی طرف سے ایک اور ردی کی ٹوکری...  negative\n",
       "4      یہ کولمبو ہے جس کی ہدایتکاری اپنے کیریئر کے اب...  positive\n",
       "...                                                  ...       ...\n",
       "39995  اگرچہ میں نے سب سے زیادہ تکنیکی طور پر اعلی در...  positive\n",
       "39996  اس فلم نے مجھے حیرت سے دوچار کردیا۔ میں اسے عا...  positive\n",
       "39997  مجھے افسوس ہے ، لیکن یہاں تک کہ ٹی جے ہوکر کے ...  negative\n",
       "39998  اس فلم کو اکیڈمی کے ایوارڈ کے لئے نہیں سمجھا ج...  positive\n",
       "39999  ٹاک ریڈیو کسی شخص کو حادثاتی طور پر زندگی کے د...  positive\n",
       "\n",
       "[40000 rows x 2 columns]"
      ]
     },
     "execution_count": 5,
     "metadata": {},
     "output_type": "execute_result"
    }
   ],
   "source": [
    "# Make copy of a dataset\n",
    "df =  data.copy()\n",
    "df"
   ]
  },
  {
   "cell_type": "code",
   "execution_count": 6,
   "metadata": {},
   "outputs": [
    {
     "data": {
      "image/png": "[encoded data removed]",
      "text/plain": [
       "<Figure size 432x288 with 1 Axes>"
      ]
     },
     "metadata": {
      "needs_background": "light"
     },
     "output_type": "display_data"
    }
   ],
   "source": [
    "sns.countplot( x = 'sentiment', data = df );"
   ]
  },
  {
   "cell_type": "markdown",
   "metadata": {},
   "source": [
    "## 3. Data Preprocessing"
   ]
  },
  {
   "cell_type": "markdown",
   "metadata": {},
   "source": [
    "### 3.1 Label Encoding of Target Variable\n",
    "\n",
    "Encode the target label sentiment."
   ]
  },
  {
   "cell_type": "code",
   "execution_count": 7,
   "metadata": {},
   "outputs": [],
   "source": [
    "# Encode the labels\n",
    "le = LabelEncoder()\n",
    "le.fit(df['sentiment'])\n",
    "df['encoded_sentiments'] = le.transform(df['sentiment'])"
   ]
  },
  {
   "cell_type": "markdown",
   "metadata": {},
   "source": [
    "### 3.2 Apply urduhack preprocessing\n",
    "Now we will apply text cleaning modules from Urdu Hack Library"
   ]
  },
  {
   "cell_type": "code",
   "execution_count": 8,
   "metadata": {},
   "outputs": [],
   "source": [
    "# Remove stop words from text\n",
    "from typing import FrozenSet\n",
    "\n",
    "# Urdu Language Stop words list\n",
    "STOP_WORDS: FrozenSet[str] = frozenset(\"\"\"\n",
    " آ آئی آئیں آئے آتا آتی آتے آس آمدید آنا آنسہ آنی آنے آپ آگے آہ آہا آیا اب ابھی ابے\n",
    " ارے اس اسکا اسکی اسکے اسی اسے اف افوہ البتہ الف ان اندر انکا انکی انکے انہوں انہی انہیں اوئے اور اوپر\n",
    " اوہو اپ اپنا اپنوں اپنی اپنے اپنےآپ اکثر اگر اگرچہ اہاہا ایسا ایسی ایسے ایک بائیں بار بارے بالکل باوجود باہر\n",
    " بج بجے بخیر بشرطیکہ بعد بعض بغیر بلکہ بن بنا بناؤ بند بڑی بھر بھریں بھی بہت بہتر تاکہ تاہم تب تجھ\n",
    " تجھی تجھے ترا تری تلک تم تمام تمہارا تمہاروں تمہاری تمہارے تمہیں تو تک تھا تھی تھیں تھے تیرا تیری تیرے\n",
    " جا جاؤ جائیں جائے جاتا جاتی جاتے جانی جانے جب جبکہ جدھر جس جسے جن جناب جنہوں جنہیں جو جہاں جی جیسا\n",
    " جیسوں جیسی جیسے حالانکہ حالاں حصہ حضرت خاطر خالی خواہ خوب خود دائیں درمیان دریں دو دوران دوسرا دوسروں دوسری دوں\n",
    " دکھائیں دی دیئے دیا دیتا دیتی دیتے دیر دینا دینی دینے دیکھو دیں دیے دے ذریعے رکھا رکھتا رکھتی رکھتے رکھنا رکھنی\n",
    " رکھنے رکھو رکھی رکھے رہ رہا رہتا رہتی رہتے رہنا رہنی رہنے رہو رہی رہیں رہے ساتھ سامنے ساڑھے سب سبھی\n",
    " سراسر سمیت سوا سوائے سکا سکتا سکتے سہ سہی سی سے شاید شکریہ صاحب صاحبہ صرف ضرور طرح طرف طور علاوہ عین\n",
    " فقط فلاں فی قبل قطا لئے لائی لائے لاتا لاتی لاتے لانا لانی لانے لایا لو لوجی لوگوں لگ لگا لگتا\n",
    " لگتی لگی لگیں لگے لہذا لی لیا لیتا لیتی لیتے لیکن لیں لیے لے ماسوا مت مجھ مجھی مجھے محترم محترمہ محض\n",
    " مرا مرحبا مری مرے مزید مس مسز مسٹر مطابق مل مکرمی مگر مگھر مہربانی میرا میروں میری میرے میں نا نزدیک\n",
    " نما نہ نہیں نیز نیچے نے و وار واسطے واقعی والا والوں والی والے واہ وجہ ورنہ وغیرہ ولے وگرنہ وہ وہاں\n",
    " وہی وہیں ویسا ویسے ویں پاس پایا پر پس پلیز پون پونی پونے پھر پہ پہلا پہلی پہلے پیر پیچھے چاہئے\n",
    " چاہتے چاہیئے چاہے چلا چلو چلیں چلے چناچہ چند چونکہ چکی چکیں چکے ڈالنا ڈالنی ڈالنے ڈالے کئے کا کاش کب کبھی\n",
    " کدھر کر کرتا کرتی کرتے کرم کرنا کرنے کرو کریں کرے کس کسی کسے کم کن کنہیں کو کوئی کون کونسا\n",
    " کونسے کچھ کہ کہا کہاں کہہ کہی کہیں کہے کی کیا کیسا کیسے کیونکر کیونکہ کیوں کیے کے گئی گئے گا گنا\n",
    " گو گویا گی گیا ہائیں ہائے ہاں ہر ہرچند ہرگز ہم ہمارا ہماری ہمارے ہمی ہمیں ہو ہوئی ہوئیں ہوئے ہوا\n",
    " ہوبہو ہوتا ہوتی ہوتیں ہوتے ہونا ہونگے ہونی ہونے ہوں ہی ہیلو ہیں ہے یا یات یعنی یک یہ یہاں یہی یہیں\n",
    "\"\"\".split())\n",
    "\n",
    "\n",
    "def remove_stopwords(text: str):\n",
    "    return \" \".join(word for word in text.split() if word not in STOP_WORDS)"
   ]
  },
  {
   "cell_type": "code",
   "execution_count": 9,
   "metadata": {},
   "outputs": [
    {
     "data": {
      "text/plain": [
       "430"
      ]
     },
     "execution_count": 9,
     "metadata": {},
     "output_type": "execute_result"
    }
   ],
   "source": [
    "len(STOP_WORDS)"
   ]
  },
  {
   "cell_type": "code",
   "execution_count": 10,
   "metadata": {},
   "outputs": [],
   "source": [
    "def preprocessing(text):\n",
    "    text = normalize(text)\n",
    "    text = ppro.normalize_whitespace(text)\n",
    "    text = ppro.remove_punctuation(text)\n",
    "    text = ppro.remove_accents(text)\n",
    "    text = ppro.replace_urls(text)\n",
    "    text = ppro.replace_emails(text)\n",
    "    text = ppro.replace_phone_numbers(text)\n",
    "    text = ppro.replace_numbers(text)\n",
    "    text = ppro.replace_currency_symbols(text)\n",
    "    text = ppro.remove_english_alphabets(text)    \n",
    "    text = re.sub(r'\\<a href', ' ', text)\n",
    "    text = re.sub(r'&amp;', '', text) \n",
    "    text = re.sub(r'<br />', ' ', text)\n",
    "    text = remove_stopwords(text)\n",
    "    text =  nltk.WordPunctTokenizer().tokenize(text)\n",
    "\n",
    "    return text"
   ]
  },
  {
   "cell_type": "code",
   "execution_count": 11,
   "metadata": {},
   "outputs": [],
   "source": [
    "df['cleaned'] = df['review'].apply(preprocessing)"
   ]
  },
  {
   "cell_type": "markdown",
   "metadata": {},
   "source": [
    "Using publically available set of Urdu Text Stopwords we will remove stop words from our text."
   ]
  },
  {
   "cell_type": "code",
   "execution_count": 12,
   "metadata": {},
   "outputs": [],
   "source": [
    "# df['cleaned'] =  df['cleaned'].apply(remove_stopwords)"
   ]
  },
  {
   "cell_type": "code",
   "execution_count": 13,
   "metadata": {},
   "outputs": [
    {
     "data": {
      "text/html": [
       "<div>\n",
       "<style scoped>\n",
       "    .dataframe tbody tr th:only-of-type {\n",
       "        vertical-align: middle;\n",
       "    }\n",
       "\n",
       "    .dataframe tbody tr th {\n",
       "        vertical-align: top;\n",
       "    }\n",
       "\n",
       "    .dataframe thead th {\n",
       "        text-align: right;\n",
       "    }\n",
       "</style>\n",
       "<table border=\"1\" class=\"dataframe\">\n",
       "  <thead>\n",
       "    <tr style=\"text-align: right;\">\n",
       "      <th></th>\n",
       "      <th>review</th>\n",
       "      <th>sentiment</th>\n",
       "      <th>encoded_sentiments</th>\n",
       "      <th>cleaned</th>\n",
       "    </tr>\n",
       "  </thead>\n",
       "  <tbody>\n",
       "    <tr>\n",
       "      <th>0</th>\n",
       "      <td>میں نے اسے 80 کی دہائی کے وسط میں ایک کیبل گائ...</td>\n",
       "      <td>positive</td>\n",
       "      <td>1</td>\n",
       "      <td>[دہائی, وسط, کیبل, گائیڈ, اسکائینجر, ہنٹ, پہلو...</td>\n",
       "    </tr>\n",
       "    <tr>\n",
       "      <th>1</th>\n",
       "      <td>چونکہ میں نے 80 کی دہائی میں انسپکٹر گیجٹ کارٹ...</td>\n",
       "      <td>negative</td>\n",
       "      <td>0</td>\n",
       "      <td>[دہائی, انسپکٹر, گیجٹ, کارٹون, پسند, فلم, دیکھ...</td>\n",
       "    </tr>\n",
       "    <tr>\n",
       "      <th>2</th>\n",
       "      <td>ایک ایسے معاشرے کی حالت کے بارے میں تعجب کرتا ...</td>\n",
       "      <td>positive</td>\n",
       "      <td>1</td>\n",
       "      <td>[معاشرے, حالت, تعجب, والد, پیدا, البرٹ, ٹی, فٹ...</td>\n",
       "    </tr>\n",
       "    <tr>\n",
       "      <th>3</th>\n",
       "      <td>مفید البرٹ پیون کی طرف سے ایک اور ردی کی ٹوکری...</td>\n",
       "      <td>negative</td>\n",
       "      <td>0</td>\n",
       "      <td>[مفید, البرٹ, پیون, ردی, ٹوکری, گریڈ, زیڈ, جلد...</td>\n",
       "    </tr>\n",
       "    <tr>\n",
       "      <th>4</th>\n",
       "      <td>یہ کولمبو ہے جس کی ہدایتکاری اپنے کیریئر کے اب...</td>\n",
       "      <td>positive</td>\n",
       "      <td>1</td>\n",
       "      <td>[کولمبو, ہدایتکاری, کیریئر, ابتدائی, وقت, اسٹی...</td>\n",
       "    </tr>\n",
       "    <tr>\n",
       "      <th>...</th>\n",
       "      <td>...</td>\n",
       "      <td>...</td>\n",
       "      <td>...</td>\n",
       "      <td>...</td>\n",
       "    </tr>\n",
       "    <tr>\n",
       "      <th>39995</th>\n",
       "      <td>اگرچہ میں نے سب سے زیادہ تکنیکی طور پر اعلی در...</td>\n",
       "      <td>positive</td>\n",
       "      <td>1</td>\n",
       "      <td>[زیادہ, تکنیکی, اعلی, درجے, فلم, دیکھی, تفریحی...</td>\n",
       "    </tr>\n",
       "    <tr>\n",
       "      <th>39996</th>\n",
       "      <td>اس فلم نے مجھے حیرت سے دوچار کردیا۔ میں اسے عا...</td>\n",
       "      <td>positive</td>\n",
       "      <td>1</td>\n",
       "      <td>[فلم, حیرت, دوچار, کردیا, عادت, بناتا, شرکت, ف...</td>\n",
       "    </tr>\n",
       "    <tr>\n",
       "      <th>39997</th>\n",
       "      <td>مجھے افسوس ہے ، لیکن یہاں تک کہ ٹی جے ہوکر کے ...</td>\n",
       "      <td>negative</td>\n",
       "      <td>0</td>\n",
       "      <td>[افسوس, ٹی, جے, ہوکر, ایڈرین, زیمڈ, نتیجہ, بچا...</td>\n",
       "    </tr>\n",
       "    <tr>\n",
       "      <th>39998</th>\n",
       "      <td>اس فلم کو اکیڈمی کے ایوارڈ کے لئے نہیں سمجھا ج...</td>\n",
       "      <td>positive</td>\n",
       "      <td>1</td>\n",
       "      <td>[فلم, اکیڈمی, ایوارڈ, سمجھا, فلم, لطف, اندوز, ...</td>\n",
       "    </tr>\n",
       "    <tr>\n",
       "      <th>39999</th>\n",
       "      <td>ٹاک ریڈیو کسی شخص کو حادثاتی طور پر زندگی کے د...</td>\n",
       "      <td>positive</td>\n",
       "      <td>1</td>\n",
       "      <td>[ٹاک, ریڈیو, شخص, حادثاتی, زندگی, ٹھوکروں, دیک...</td>\n",
       "    </tr>\n",
       "  </tbody>\n",
       "</table>\n",
       "<p>40000 rows × 4 columns</p>\n",
       "</div>"
      ],
      "text/plain": [
       "                                                  review sentiment  \\\n",
       "0      میں نے اسے 80 کی دہائی کے وسط میں ایک کیبل گائ...  positive   \n",
       "1      چونکہ میں نے 80 کی دہائی میں انسپکٹر گیجٹ کارٹ...  negative   \n",
       "2      ایک ایسے معاشرے کی حالت کے بارے میں تعجب کرتا ...  positive   \n",
       "3      مفید البرٹ پیون کی طرف سے ایک اور ردی کی ٹوکری...  negative   \n",
       "4      یہ کولمبو ہے جس کی ہدایتکاری اپنے کیریئر کے اب...  positive   \n",
       "...                                                  ...       ...   \n",
       "39995  اگرچہ میں نے سب سے زیادہ تکنیکی طور پر اعلی در...  positive   \n",
       "39996  اس فلم نے مجھے حیرت سے دوچار کردیا۔ میں اسے عا...  positive   \n",
       "39997  مجھے افسوس ہے ، لیکن یہاں تک کہ ٹی جے ہوکر کے ...  negative   \n",
       "39998  اس فلم کو اکیڈمی کے ایوارڈ کے لئے نہیں سمجھا ج...  positive   \n",
       "39999  ٹاک ریڈیو کسی شخص کو حادثاتی طور پر زندگی کے د...  positive   \n",
       "\n",
       "       encoded_sentiments                                            cleaned  \n",
       "0                       1  [دہائی, وسط, کیبل, گائیڈ, اسکائینجر, ہنٹ, پہلو...  \n",
       "1                       0  [دہائی, انسپکٹر, گیجٹ, کارٹون, پسند, فلم, دیکھ...  \n",
       "2                       1  [معاشرے, حالت, تعجب, والد, پیدا, البرٹ, ٹی, فٹ...  \n",
       "3                       0  [مفید, البرٹ, پیون, ردی, ٹوکری, گریڈ, زیڈ, جلد...  \n",
       "4                       1  [کولمبو, ہدایتکاری, کیریئر, ابتدائی, وقت, اسٹی...  \n",
       "...                   ...                                                ...  \n",
       "39995                   1  [زیادہ, تکنیکی, اعلی, درجے, فلم, دیکھی, تفریحی...  \n",
       "39996                   1  [فلم, حیرت, دوچار, کردیا, عادت, بناتا, شرکت, ف...  \n",
       "39997                   0  [افسوس, ٹی, جے, ہوکر, ایڈرین, زیمڈ, نتیجہ, بچا...  \n",
       "39998                   1  [فلم, اکیڈمی, ایوارڈ, سمجھا, فلم, لطف, اندوز, ...  \n",
       "39999                   1  [ٹاک, ریڈیو, شخص, حادثاتی, زندگی, ٹھوکروں, دیک...  \n",
       "\n",
       "[40000 rows x 4 columns]"
      ]
     },
     "execution_count": 13,
     "metadata": {},
     "output_type": "execute_result"
    }
   ],
   "source": [
    "df"
   ]
  },
  {
   "cell_type": "code",
   "execution_count": 14,
   "metadata": {},
   "outputs": [],
   "source": [
    "import json\n",
    "\n",
    "from urduhack.config import LEMMA_LOOKUP_TABLE_PATH\n",
    "\n",
    "_WORD2LEMMA = None\n",
    "\n",
    "def lemma_lookup(text, lookup_path: str = LEMMA_LOOKUP_TABLE_PATH) -> list:\n",
    "    tokens = text\n",
    "    global _WORD2LEMMA\n",
    "    if _WORD2LEMMA is None:\n",
    "        with open(lookup_path, \"r\", encoding=\"utf-8\") as file:\n",
    "            _WORD2LEMMA = json.load(file)\n",
    "\n",
    "    return [_WORD2LEMMA[word] if word in _WORD2LEMMA else word for word in tokens]\n",
    "\n",
    "df['Lemmatized'] =list(map(lemma_lookup, df.cleaned))"
   ]
  },
  {
   "cell_type": "code",
   "execution_count": 15,
   "metadata": {},
   "outputs": [],
   "source": [
    "# import deepdiff"
   ]
  },
  {
   "cell_type": "code",
   "execution_count": 16,
   "metadata": {},
   "outputs": [],
   "source": [
    "# text = df[\"review\"][0]\n",
    "# text = preprocessing(text)\n",
    "\n",
    "# nltk.WordPunctTokenizer().tokenize(text)\n"
   ]
  },
  {
   "cell_type": "code",
   "execution_count": 17,
   "metadata": {},
   "outputs": [],
   "source": [
    "# lemmatizer = nltk.stem.WordNetLemmatizer()"
   ]
  },
  {
   "cell_type": "code",
   "execution_count": 18,
   "metadata": {},
   "outputs": [],
   "source": [
    "# def lem(txt):\n",
    "#     return [lemmatizer.lemmatize(t) for t in txt]"
   ]
  },
  {
   "cell_type": "code",
   "execution_count": 19,
   "metadata": {},
   "outputs": [],
   "source": [
    "# txt1 = lemma_lookup(text)\n",
    "# txt2 = lem(text)\n",
    "\n",
    "# len(deepdiff.DeepDiff(txt1, text))\n",
    "# len(deepdiff.DeepDiff(txt2, text))"
   ]
  },
  {
   "cell_type": "code",
   "execution_count": 20,
   "metadata": {},
   "outputs": [],
   "source": [
    "# df[['review', 'Lemmatized']].head(10)"
   ]
  },
  {
   "cell_type": "code",
   "execution_count": 21,
   "metadata": {},
   "outputs": [
    {
     "data": {
      "text/html": [
       "<div>\n",
       "<style scoped>\n",
       "    .dataframe tbody tr th:only-of-type {\n",
       "        vertical-align: middle;\n",
       "    }\n",
       "\n",
       "    .dataframe tbody tr th {\n",
       "        vertical-align: top;\n",
       "    }\n",
       "\n",
       "    .dataframe thead th {\n",
       "        text-align: right;\n",
       "    }\n",
       "</style>\n",
       "<table border=\"1\" class=\"dataframe\">\n",
       "  <thead>\n",
       "    <tr style=\"text-align: right;\">\n",
       "      <th></th>\n",
       "      <th>review</th>\n",
       "      <th>sentiment</th>\n",
       "      <th>encoded_sentiments</th>\n",
       "      <th>cleaned</th>\n",
       "      <th>Lemmatized</th>\n",
       "    </tr>\n",
       "  </thead>\n",
       "  <tbody>\n",
       "    <tr>\n",
       "      <th>0</th>\n",
       "      <td>میں نے اسے 80 کی دہائی کے وسط میں ایک کیبل گائ...</td>\n",
       "      <td>positive</td>\n",
       "      <td>1</td>\n",
       "      <td>[دہائی, وسط, کیبل, گائیڈ, اسکائینجر, ہنٹ, پہلو...</td>\n",
       "      <td>[دہائی, وسط, کیبل, گائیڈ, اسکائینجر, ہنٹ, پہلا...</td>\n",
       "    </tr>\n",
       "    <tr>\n",
       "      <th>1</th>\n",
       "      <td>چونکہ میں نے 80 کی دہائی میں انسپکٹر گیجٹ کارٹ...</td>\n",
       "      <td>negative</td>\n",
       "      <td>0</td>\n",
       "      <td>[دہائی, انسپکٹر, گیجٹ, کارٹون, پسند, فلم, دیکھ...</td>\n",
       "      <td>[دہائی, انسپکٹر, گیجٹ, کارٹون, پسند, فلم, دیکھ...</td>\n",
       "    </tr>\n",
       "    <tr>\n",
       "      <th>2</th>\n",
       "      <td>ایک ایسے معاشرے کی حالت کے بارے میں تعجب کرتا ...</td>\n",
       "      <td>positive</td>\n",
       "      <td>1</td>\n",
       "      <td>[معاشرے, حالت, تعجب, والد, پیدا, البرٹ, ٹی, فٹ...</td>\n",
       "      <td>[معاشرہ, حالت, تعجب, والد, پیدا, البرٹ, ٹی, فٹ...</td>\n",
       "    </tr>\n",
       "    <tr>\n",
       "      <th>3</th>\n",
       "      <td>مفید البرٹ پیون کی طرف سے ایک اور ردی کی ٹوکری...</td>\n",
       "      <td>negative</td>\n",
       "      <td>0</td>\n",
       "      <td>[مفید, البرٹ, پیون, ردی, ٹوکری, گریڈ, زیڈ, جلد...</td>\n",
       "      <td>[مفید, البرٹ, پیون, ردی, ٹوکری, گریڈ, زیڈ, جلد...</td>\n",
       "    </tr>\n",
       "    <tr>\n",
       "      <th>4</th>\n",
       "      <td>یہ کولمبو ہے جس کی ہدایتکاری اپنے کیریئر کے اب...</td>\n",
       "      <td>positive</td>\n",
       "      <td>1</td>\n",
       "      <td>[کولمبو, ہدایتکاری, کیریئر, ابتدائی, وقت, اسٹی...</td>\n",
       "      <td>[کولمبو, ہدایتکاری, کیریئر, ابتدائی, وقت, اسٹی...</td>\n",
       "    </tr>\n",
       "  </tbody>\n",
       "</table>\n",
       "</div>"
      ],
      "text/plain": [
       "                                              review sentiment  \\\n",
       "0  میں نے اسے 80 کی دہائی کے وسط میں ایک کیبل گائ...  positive   \n",
       "1  چونکہ میں نے 80 کی دہائی میں انسپکٹر گیجٹ کارٹ...  negative   \n",
       "2  ایک ایسے معاشرے کی حالت کے بارے میں تعجب کرتا ...  positive   \n",
       "3  مفید البرٹ پیون کی طرف سے ایک اور ردی کی ٹوکری...  negative   \n",
       "4  یہ کولمبو ہے جس کی ہدایتکاری اپنے کیریئر کے اب...  positive   \n",
       "\n",
       "   encoded_sentiments                                            cleaned  \\\n",
       "0                   1  [دہائی, وسط, کیبل, گائیڈ, اسکائینجر, ہنٹ, پہلو...   \n",
       "1                   0  [دہائی, انسپکٹر, گیجٹ, کارٹون, پسند, فلم, دیکھ...   \n",
       "2                   1  [معاشرے, حالت, تعجب, والد, پیدا, البرٹ, ٹی, فٹ...   \n",
       "3                   0  [مفید, البرٹ, پیون, ردی, ٹوکری, گریڈ, زیڈ, جلد...   \n",
       "4                   1  [کولمبو, ہدایتکاری, کیریئر, ابتدائی, وقت, اسٹی...   \n",
       "\n",
       "                                          Lemmatized  \n",
       "0  [دہائی, وسط, کیبل, گائیڈ, اسکائینجر, ہنٹ, پہلا...  \n",
       "1  [دہائی, انسپکٹر, گیجٹ, کارٹون, پسند, فلم, دیکھ...  \n",
       "2  [معاشرہ, حالت, تعجب, والد, پیدا, البرٹ, ٹی, فٹ...  \n",
       "3  [مفید, البرٹ, پیون, ردی, ٹوکری, گریڈ, زیڈ, جلد...  \n",
       "4  [کولمبو, ہدایتکاری, کیریئر, ابتدائی, وقت, اسٹی...  "
      ]
     },
     "execution_count": 21,
     "metadata": {},
     "output_type": "execute_result"
    }
   ],
   "source": [
    "df.head()"
   ]
  },
  {
   "cell_type": "markdown",
   "metadata": {},
   "source": [
    "### 4.3 Train Test Split"
   ]
  },
  {
   "cell_type": "code",
   "execution_count": 22,
   "metadata": {},
   "outputs": [],
   "source": [
    "X_train, X_test, y_train, y_test = train_test_split(df['Lemmatized'], df['encoded_sentiments'], test_size = 0.30, random_state = 7, shuffle = True)"
   ]
  },
  {
   "cell_type": "code",
   "execution_count": 23,
   "metadata": {},
   "outputs": [
    {
     "name": "stdout",
     "output_type": "stream",
     "text": [
      "Shape of X_train (28000,)\n",
      "Shape of X_test (12000,)\n",
      "Shape of Y_train (28000,)\n",
      "Shape of Y_test (12000,)\n"
     ]
    }
   ],
   "source": [
    "print('Shape of X_train', X_train.shape)\n",
    "print('Shape of X_test', X_test.shape)\n",
    "print('Shape of Y_train', y_train.shape)\n",
    "print('Shape of Y_test', y_test.shape)"
   ]
  },
  {
   "cell_type": "code",
   "execution_count": 24,
   "metadata": {},
   "outputs": [],
   "source": [
    "from sklearn.model_selection import GridSearchCV\n",
    "from sklearn.pipeline import Pipeline\n",
    "\n",
    "from sklearn.metrics import classification_report\n",
    "from sklearn.metrics import confusion_matrix, plot_confusion_matrix, classification_report"
   ]
  },
  {
   "cell_type": "markdown",
   "metadata": {},
   "source": [
    "## Model Train and Vectorization Class "
   ]
  },
  {
   "cell_type": "code",
   "execution_count": 25,
   "metadata": {},
   "outputs": [],
   "source": [
    "# class TrainModel:\n",
    "#     def __init__(self, X_train, y_train, X_test, y_test):\n",
    "#         self.bow_transform = CountVectorizer(tokenizer=lambda doc: doc, lowercase=False) \n",
    "#         self.tfidf_transform = text.TfidfTransformer()\n",
    "        \n",
    "#         self.tfidf_train = self.bow_transform.fit_transform(X_train) \n",
    "#         self.tfidf_test = self.bow_transform.transform(X_test) \n",
    "        \n",
    "#         self.X_tfidf_train = self.tfidf_transform.fit_transform(self.tfidf_train)\n",
    "#         self.X_tfidf_test = self.tfidf_transform.transform(self.tfidf_test)\n",
    "        \n",
    "#         self.y_train = np.array(y_train)\n",
    "#         self.y_test = np.array(y_test)\n",
    "        \n",
    "#         self.scores = []\n",
    "#         self.best_estimators = {}\n",
    "    \n",
    "#     def _train(self, model, params, method, name):\n",
    "#         try:\n",
    "#             clf = GridSearchCV(model(), params, cv=5, return_train_score=False)\n",
    "#             clf.fit(self.X_tfidf_train, self.y_train)\n",
    "\n",
    "#             print(\"Mean Test Score\")\n",
    "#             print(self.get_mean_test_score(clf, params))\n",
    "            \n",
    "#             self.scores = [score for score in self.scores if score['model'] != (name)]\n",
    "#             self.scores.append({\n",
    "#                 'model': name,\n",
    "#                 'best_score': clf.best_score_,\n",
    "#                 'best_params': clf.best_params_\n",
    "#             })\n",
    "\n",
    "#             self.best_estimators[str(name)] = clf.best_estimator_\n",
    "        \n",
    "#         except Exception as e:\n",
    "#             print(\"Exception : \", e)\n",
    "        \n",
    "#     def train(self, mlModel, params, modelName):        \n",
    "#         print(\"\\nTraining \"+modelName+\" using TFIDF Vectorization Method\")\n",
    "#         self._train(mlModel, params, \"tfidf\", modelName)\n",
    "        \n",
    "#         return self.best_estimators\n",
    "    \n",
    "#     def get_mean_test_score(self, clf, params):\n",
    "#         keys = list(params.keys())\n",
    "#         keys.append(\"mean_test_score\")\n",
    "#         df = pd.DataFrame([])\n",
    "#         for x in keys:\n",
    "#             df[x] = clf.cv_results_[\"param_\"+keys[0]]\n",
    "#         df[\"mean_test_score\"] = clf.cv_results_[\"mean_test_score\"]\n",
    "#         return df\n",
    "    \n",
    "#     def getScore(self):\n",
    "#         for score in self.scores:\n",
    "#             print(score[\"model\"], \" : \", score[\"best_score\"], \" : \", score[\"best_params\"])\n",
    "    \n",
    "#     def getClassificationReport(self):\n",
    "#         for cls, best_estimator in self.best_estimators.items():\n",
    "#             y_pred = best_estimator.predict(self.X_tfidf_test)\n",
    "            \n",
    "#             print(cls + \" classification report:\")\n",
    "#             print(classification_report(self.y_test, y_pred))\n",
    "            \n",
    "#     def plotConfusionMatrix(self):        \n",
    "#         fig, axes = plt.subplots(nrows=int(len(self.best_estimators.items())/2), ncols=3, figsize=(10, 15))\n",
    "        \n",
    "#         for cls, ax in zip(self.best_estimators.items(), axes.flatten()):\n",
    "#             plot_confusion_matrix(\n",
    "#                     cls[1], \n",
    "#                     self.X_tfidf_test,\n",
    "#                     y_test, \n",
    "#                     ax=ax,\n",
    "#                     cmap='Blues')\n",
    "\n",
    "#             acc = round(cls[1].score(self.X_tfidf_test, y_test)*100, 2)\n",
    "#             ax.title.set_text((cls[0]+\" | \"+ str(acc) + \"%\"))\n",
    "\n",
    "#         plt.tight_layout()  \n",
    "#         plt.show()"
   ]
  },
  {
   "cell_type": "code",
   "execution_count": 26,
   "metadata": {},
   "outputs": [],
   "source": [
    "bow_transform = CountVectorizer(tokenizer=lambda doc: doc, lowercase=False) \n",
    "tfidf_transform = text.TfidfTransformer()\n",
    "        \n",
    "tfidf_train = bow_transform.fit_transform(X_train) \n",
    "tfidf_test = bow_transform.transform(X_test) \n",
    "        \n",
    "X_tfidf_train = tfidf_transform.fit_transform(tfidf_train)\n",
    "X_tfidf_test = tfidf_transform.transform(tfidf_test)\n",
    "        \n",
    "y_train = np.array(y_train)\n",
    "y_test = np.array(y_test)\n",
    "        \n",
    "scores = []\n",
    "best_estimators = {}"
   ]
  },
  {
   "cell_type": "code",
   "execution_count": 27,
   "metadata": {},
   "outputs": [],
   "source": [
    "def get_mean_test_score(clf, params):\n",
    "    keys = list(params.keys())\n",
    "    keys.append(\"mean_test_score\")\n",
    "    df = pd.DataFrame([])\n",
    "    for x in keys:\n",
    "        df[x] = clf.cv_results_[\"param_\"+keys[0]]\n",
    "    df[\"mean_test_score\"] = clf.cv_results_[\"mean_test_score\"]\n",
    "    return df\n",
    "\n",
    "def getScore( ):\n",
    "    global scores\n",
    "    for score in scores:\n",
    "        print(score[\"model\"], \" : \", score[\"best_score\"], \" : \", score[\"best_params\"])\n",
    "\n",
    "def getClassificationReport( ):\n",
    "    global best_estimators\n",
    "    for cls, best_estimator in  best_estimators.items():\n",
    "        y_pred = best_estimator.predict(X_tfidf_test)\n",
    "\n",
    "        print(cls + \" classification report:\")\n",
    "        print(classification_report(y_test, y_pred))\n",
    "\n",
    "def plotConfusionMatrix( ):\n",
    "    global best_estimators\n",
    "    fig, axes = plt.subplots(nrows=int(len(best_estimators.items())/2), ncols=3, figsize=(15, 15))\n",
    "\n",
    "    for cls, ax in zip(best_estimators.items(), axes.flatten()):\n",
    "        plot_confusion_matrix(\n",
    "                cls[1], \n",
    "                X_tfidf_test,\n",
    "                y_test, \n",
    "                ax=ax,\n",
    "                cmap='Blues')\n",
    "\n",
    "        acc = round(cls[1].score(X_tfidf_test, y_test)*100, 2)\n",
    "        ax.title.set_text((cls[0]+\" | \"+ str(acc) + \"%\"))\n",
    "\n",
    "    plt.tight_layout()  \n",
    "    plt.show()"
   ]
  },
  {
   "cell_type": "code",
   "execution_count": 28,
   "metadata": {},
   "outputs": [],
   "source": [
    "def _train(model, params, name):\n",
    "    try:\n",
    "        clf = GridSearchCV(model(), params, cv=5, return_train_score=False)\n",
    "        clf.fit(X_tfidf_train, y_train)\n",
    "\n",
    "        global scores\n",
    "        global best_estimators\n",
    "        \n",
    "        print(\"Mean Test Score\")\n",
    "        print(get_mean_test_score(clf, params))\n",
    "\n",
    "        scores = [score for score in scores if score['model'] != (name)]\n",
    "        scores.append({\n",
    "            'model': name,\n",
    "            'best_score': clf.best_score_,\n",
    "            'best_params': clf.best_params_\n",
    "        })\n",
    "\n",
    "        best_estimators[str(name)] = clf.best_estimator_\n",
    "\n",
    "    except Exception as e:\n",
    "        print(\"Exception : \", e)"
   ]
  },
  {
   "cell_type": "code",
   "execution_count": 59,
   "metadata": {},
   "outputs": [],
   "source": [
    "# model = TrainModel(X_train, y_train, X_test, y_test)"
   ]
  },
  {
   "cell_type": "markdown",
   "metadata": {},
   "source": [
    "## 5. Machine Learning Modeling\n",
    "\n",
    "We will apply multiple machine learning models and compare the accuracies."
   ]
  },
  {
   "cell_type": "markdown",
   "metadata": {},
   "source": [
    "### 5.1 Support Vector Machine Classifier"
   ]
  },
  {
   "cell_type": "code",
   "execution_count": 29,
   "metadata": {
    "scrolled": true
   },
   "outputs": [
    {
     "name": "stderr",
     "output_type": "stream",
     "text": [
      "C:\\Users\\Muhammad_Haseeb\\Anaconda3\\lib\\site-packages\\sklearn\\svm\\_base.py:1206: ConvergenceWarning: Liblinear failed to converge, increase the number of iterations.\n",
      "  warnings.warn(\n",
      "C:\\Users\\Muhammad_Haseeb\\Anaconda3\\lib\\site-packages\\sklearn\\svm\\_base.py:1206: ConvergenceWarning: Liblinear failed to converge, increase the number of iterations.\n",
      "  warnings.warn(\n",
      "C:\\Users\\Muhammad_Haseeb\\Anaconda3\\lib\\site-packages\\sklearn\\svm\\_base.py:1206: ConvergenceWarning: Liblinear failed to converge, increase the number of iterations.\n",
      "  warnings.warn(\n",
      "C:\\Users\\Muhammad_Haseeb\\Anaconda3\\lib\\site-packages\\sklearn\\svm\\_base.py:1206: ConvergenceWarning: Liblinear failed to converge, increase the number of iterations.\n",
      "  warnings.warn(\n",
      "C:\\Users\\Muhammad_Haseeb\\Anaconda3\\lib\\site-packages\\sklearn\\model_selection\\_validation.py:372: FitFailedWarning: \n",
      "15 fits failed out of a total of 60.\n",
      "The score on these train-test partitions for these parameters will be set to nan.\n",
      "If these failures are not expected, you can try to debug them by setting error_score='raise'.\n",
      "\n",
      "Below are more details about the failures:\n",
      "--------------------------------------------------------------------------------\n",
      "15 fits failed with the following error:\n",
      "Traceback (most recent call last):\n",
      "  File \"C:\\Users\\Muhammad_Haseeb\\Anaconda3\\lib\\site-packages\\sklearn\\model_selection\\_validation.py\", line 680, in _fit_and_score\n",
      "    estimator.fit(X_train, y_train, **fit_params)\n",
      "  File \"C:\\Users\\Muhammad_Haseeb\\Anaconda3\\lib\\site-packages\\sklearn\\svm\\_classes.py\", line 257, in fit\n",
      "    self.coef_, self.intercept_, self.n_iter_ = _fit_liblinear(\n",
      "  File \"C:\\Users\\Muhammad_Haseeb\\Anaconda3\\lib\\site-packages\\sklearn\\svm\\_base.py\", line 1185, in _fit_liblinear\n",
      "    solver_type = _get_liblinear_solver_type(multi_class, penalty, loss, dual)\n",
      "  File \"C:\\Users\\Muhammad_Haseeb\\Anaconda3\\lib\\site-packages\\sklearn\\svm\\_base.py\", line 1024, in _get_liblinear_solver_type\n",
      "    raise ValueError(\n",
      "ValueError: Unsupported set of arguments: The combination of penalty='l1' and loss='squared_hinge' are not supported when dual=True, Parameters: penalty='l1', loss='squared_hinge', dual=True\n",
      "\n",
      "  warnings.warn(some_fits_failed_message, FitFailedWarning)\n",
      "C:\\Users\\Muhammad_Haseeb\\Anaconda3\\lib\\site-packages\\sklearn\\model_selection\\_search.py:969: UserWarning: One or more of the test scores are non-finite: [       nan 0.85939286 0.85464286 0.85464286        nan 0.85964286\n",
      " 0.85739286 0.85739286        nan 0.85907143 0.85821429 0.85821429]\n",
      "  warnings.warn(\n"
     ]
    },
    {
     "name": "stdout",
     "output_type": "stream",
     "text": [
      "Mean Test Score\n",
      "   max_iter    C penalty multi_class  mean_test_score\n",
      "0       100  100     100         100              NaN\n",
      "1       100  100     100         100         0.859393\n",
      "2       100  100     100         100         0.854643\n",
      "3       100  100     100         100         0.854643\n",
      "4       100  100     100         100              NaN\n",
      "5       100  100     100         100         0.859643\n",
      "6       100  100     100         100         0.857393\n",
      "7       100  100     100         100         0.857393\n",
      "8       100  100     100         100              NaN\n",
      "9       100  100     100         100         0.859071\n",
      "10      100  100     100         100         0.858214\n",
      "11      100  100     100         100         0.858214\n"
     ]
    }
   ],
   "source": [
    "params = {\n",
    "    \"max_iter\": [100],\n",
    "    'C': [0.1, 0.2, 0.3],\n",
    "    'penalty' : ['l1', 'l2'],\n",
    "#     'loss' : ['hinge'],\n",
    "    'multi_class' : ['ovr', 'crammer_singer']\n",
    "}\n",
    "\n",
    "est = _train(svm.LinearSVC, params, \"LinearSVC\")"
   ]
  },
  {
   "cell_type": "markdown",
   "metadata": {},
   "source": [
    "### 5.2 Logistic Regression Classifier"
   ]
  },
  {
   "cell_type": "code",
   "execution_count": 30,
   "metadata": {},
   "outputs": [
    {
     "name": "stdout",
     "output_type": "stream",
     "text": [
      "Mean Test Score\n",
      "     C solver penalty  mean_test_score\n",
      "0   40     40      40         0.827143\n",
      "1   40     40      40         0.844393\n",
      "2   90     90      90         0.824821\n",
      "3   90     90      90         0.840036\n",
      "4   95     95      95         0.825036\n",
      "5   95     95      95         0.840179\n",
      "6  100    100     100         0.824571\n",
      "7  100    100     100         0.839893\n"
     ]
    }
   ],
   "source": [
    "params = {\n",
    "    'C': [40, 90, 95, 100],\n",
    "    'solver' : ['liblinear'],\n",
    "    'penalty' : ['l1', 'l2']\n",
    "}\n",
    "est = _train(LogisticRegression, params, \"LogisticRegression\")\n"
   ]
  },
  {
   "cell_type": "markdown",
   "metadata": {},
   "source": [
    "### 5.3 Decision Tree Classifier"
   ]
  },
  {
   "cell_type": "code",
   "execution_count": 31,
   "metadata": {},
   "outputs": [
    {
     "name": "stdout",
     "output_type": "stream",
     "text": [
      "Mean Test Score\n",
      "  max_depth random_state criterion splitter  mean_test_score\n",
      "0         9            9         9        9         0.714500\n",
      "1         9            9         9        9         0.692536\n",
      "2         9            9         9        9         0.711857\n",
      "3         9            9         9        9         0.685643\n"
     ]
    }
   ],
   "source": [
    "params = {\n",
    "    \"max_depth\" : [9], \n",
    "    \"random_state\" : [23],\n",
    "    \"criterion\" : [\"gini\", \"entropy\"],\n",
    "    \"splitter\" : [\"best\", \"random\"],\n",
    "}\n",
    "\n",
    "est = _train(DecisionTreeClassifier, params, \"Decision Tree\")"
   ]
  },
  {
   "cell_type": "markdown",
   "metadata": {},
   "source": [
    "### 5.4 Xgboost Classifier"
   ]
  },
  {
   "cell_type": "code",
   "execution_count": 84,
   "metadata": {},
   "outputs": [
    {
     "name": "stderr",
     "output_type": "stream",
     "text": [
      "\n",
      "KeyboardInterrupt\n",
      "\n"
     ]
    }
   ],
   "source": [
    "params = {\n",
    "#     \"colsample_bytree\" : [0.2],\n",
    "#     \"learning_rate\" : [0.01, 0.1, 1],\n",
    "    \"n_estimators\": [100, 120]\n",
    "}\n",
    "\n",
    "est = _train(xgb.XGBClassifier, params, \"XGBoost\")"
   ]
  },
  {
   "cell_type": "markdown",
   "metadata": {},
   "source": [
    "### 5.5 Random Forest Classifier"
   ]
  },
  {
   "cell_type": "code",
   "execution_count": 33,
   "metadata": {},
   "outputs": [
    {
     "name": "stdout",
     "output_type": "stream",
     "text": [
      "Mean Test Score\n",
      "  max_depth random_state n_estimators  mean_test_score\n",
      "0         9            9            9         0.820071\n"
     ]
    }
   ],
   "source": [
    "params = {\n",
    "    \"max_depth\" : [9], \n",
    "    \"random_state\" : [43],\n",
    "    \"n_estimators\": [450],\n",
    "}\n",
    "\n",
    "est = _train(RandomForestClassifier, params, \"Random Forest Classifier\")"
   ]
  },
  {
   "cell_type": "markdown",
   "metadata": {},
   "source": [
    "### 5.6 KNN\n",
    "40 | 0.778857"
   ]
  },
  {
   "cell_type": "code",
   "execution_count": 36,
   "metadata": {},
   "outputs": [],
   "source": [
    "from sklearn.neighbors import KNeighborsClassifier  "
   ]
  },
  {
   "cell_type": "code",
   "execution_count": 82,
   "metadata": {},
   "outputs": [
    {
     "name": "stdout",
     "output_type": "stream",
     "text": [
      "Mean Test Score\n",
      "  n_neighbors weights algorithm  mean_test_score\n",
      "0          20      20        20         0.767464\n",
      "1          30      30        30         0.775000\n",
      "2          40      40        40         0.778857\n"
     ]
    }
   ],
   "source": [
    "params = {\n",
    "   \"n_neighbors\" : [20, 30, 40],\n",
    "    \"weights\" : ['distance'],\n",
    "    \"algorithm\" : ['auto']\n",
    "}\n",
    "\n",
    "_train(KNeighborsClassifier, params, \"KNeighbours Classifier\")"
   ]
  },
  {
   "cell_type": "code",
   "execution_count": 85,
   "metadata": {},
   "outputs": [
    {
     "data": {
      "text/plain": [
       "[{'model': 'LinearSVC',\n",
       "  'best_score': 0.8596428571428572,\n",
       "  'best_params': {'C': 0.2,\n",
       "   'max_iter': 100,\n",
       "   'multi_class': 'ovr',\n",
       "   'penalty': 'l2'}},\n",
       " {'model': 'LogisticRegression',\n",
       "  'best_score': 0.8443928571428572,\n",
       "  'best_params': {'C': 40, 'penalty': 'l2', 'solver': 'liblinear'}},\n",
       " {'model': 'Decision Tree',\n",
       "  'best_score': 0.7145,\n",
       "  'best_params': {'criterion': 'gini',\n",
       "   'max_depth': 9,\n",
       "   'random_state': 23,\n",
       "   'splitter': 'best'}},\n",
       " {'model': 'Random Forest Classifier',\n",
       "  'best_score': 0.8200714285714286,\n",
       "  'best_params': {'max_depth': 9, 'n_estimators': 450, 'random_state': 43}},\n",
       " {'model': 'KNeighbours Classifier',\n",
       "  'best_score': 0.7788571428571429,\n",
       "  'best_params': {'algorithm': 'auto',\n",
       "   'n_neighbors': 40,\n",
       "   'weights': 'distance'}},\n",
       " {'model': 'XGBoost',\n",
       "  'best_score': 0.8215714285714284,\n",
       "  'best_params': {'n_estimators': 100}}]"
      ]
     },
     "execution_count": 85,
     "metadata": {},
     "output_type": "execute_result"
    }
   ],
   "source": [
    "scores"
   ]
  },
  {
   "cell_type": "markdown",
   "metadata": {},
   "source": [
    "### 5.7 Multinomial NB"
   ]
  },
  {
   "cell_type": "code",
   "execution_count": 39,
   "metadata": {},
   "outputs": [],
   "source": [
    "from sklearn.naive_bayes import MultinomialNB"
   ]
  },
  {
   "cell_type": "code",
   "execution_count": 59,
   "metadata": {},
   "outputs": [
    {
     "name": "stdout",
     "output_type": "stream",
     "text": [
      "Mean Test Score\n",
      "  alpha  mean_test_score\n",
      "0   1.0         0.830000\n",
      "1  1.25         0.830679\n",
      "2   1.5         0.831143\n",
      "3  1.75         0.831571\n",
      "4     2         0.831607\n",
      "5  2.25         0.831714\n",
      "6   2.5         0.831286\n"
     ]
    }
   ],
   "source": [
    "params = {\n",
    "    \"alpha\": [1.0, 1.25, 1.5, 1.75, 2, 2.25, 2.5],\n",
    "}\n",
    "est = _train(MultinomialNB, params, \"KNeighbours Classifier\")"
   ]
  },
  {
   "cell_type": "markdown",
   "metadata": {},
   "source": [
    "## 6. Results - UrduHack and TF-IDF Vectorizer "
   ]
  },
  {
   "cell_type": "code",
   "execution_count": 86,
   "metadata": {},
   "outputs": [
    {
     "name": "stderr",
     "output_type": "stream",
     "text": [
      "C:\\Users\\Muhammad_Haseeb\\Anaconda3\\lib\\site-packages\\sklearn\\utils\\deprecation.py:87: FutureWarning: Function plot_confusion_matrix is deprecated; Function `plot_confusion_matrix` is deprecated in 1.0 and will be removed in 1.2. Use one of the class methods: ConfusionMatrixDisplay.from_predictions or ConfusionMatrixDisplay.from_estimator.\n",
      "  warnings.warn(msg, category=FutureWarning)\n",
      "C:\\Users\\Muhammad_Haseeb\\Anaconda3\\lib\\site-packages\\sklearn\\utils\\deprecation.py:87: FutureWarning: Function plot_confusion_matrix is deprecated; Function `plot_confusion_matrix` is deprecated in 1.0 and will be removed in 1.2. Use one of the class methods: ConfusionMatrixDisplay.from_predictions or ConfusionMatrixDisplay.from_estimator.\n",
      "  warnings.warn(msg, category=FutureWarning)\n",
      "C:\\Users\\Muhammad_Haseeb\\Anaconda3\\lib\\site-packages\\sklearn\\utils\\deprecation.py:87: FutureWarning: Function plot_confusion_matrix is deprecated; Function `plot_confusion_matrix` is deprecated in 1.0 and will be removed in 1.2. Use one of the class methods: ConfusionMatrixDisplay.from_predictions or ConfusionMatrixDisplay.from_estimator.\n",
      "  warnings.warn(msg, category=FutureWarning)\n",
      "C:\\Users\\Muhammad_Haseeb\\Anaconda3\\lib\\site-packages\\sklearn\\utils\\deprecation.py:87: FutureWarning: Function plot_confusion_matrix is deprecated; Function `plot_confusion_matrix` is deprecated in 1.0 and will be removed in 1.2. Use one of the class methods: ConfusionMatrixDisplay.from_predictions or ConfusionMatrixDisplay.from_estimator.\n",
      "  warnings.warn(msg, category=FutureWarning)\n",
      "C:\\Users\\Muhammad_Haseeb\\Anaconda3\\lib\\site-packages\\sklearn\\utils\\deprecation.py:87: FutureWarning: Function plot_confusion_matrix is deprecated; Function `plot_confusion_matrix` is deprecated in 1.0 and will be removed in 1.2. Use one of the class methods: ConfusionMatrixDisplay.from_predictions or ConfusionMatrixDisplay.from_estimator.\n",
      "  warnings.warn(msg, category=FutureWarning)\n",
      "C:\\Users\\Muhammad_Haseeb\\Anaconda3\\lib\\site-packages\\sklearn\\utils\\deprecation.py:87: FutureWarning: Function plot_confusion_matrix is deprecated; Function `plot_confusion_matrix` is deprecated in 1.0 and will be removed in 1.2. Use one of the class methods: ConfusionMatrixDisplay.from_predictions or ConfusionMatrixDisplay.from_estimator.\n",
      "  warnings.warn(msg, category=FutureWarning)\n"
     ]
    },
    {
     "data": {
      "image/png": "[encoded data removed]",
      "text/plain": [
       "<Figure size 1080x1080 with 15 Axes>"
      ]
     },
     "metadata": {
      "needs_background": "light"
     },
     "output_type": "display_data"
    }
   ],
   "source": [
    "plotConfusionMatrix()"
   ]
  },
  {
   "cell_type": "code",
   "execution_count": 87,
   "metadata": {},
   "outputs": [
    {
     "name": "stdout",
     "output_type": "stream",
     "text": [
      "LinearSVC classification report:\n",
      "              precision    recall  f1-score   support\n",
      "\n",
      "           0       0.87      0.85      0.86      6074\n",
      "           1       0.85      0.87      0.86      5926\n",
      "\n",
      "    accuracy                           0.86     12000\n",
      "   macro avg       0.86      0.86      0.86     12000\n",
      "weighted avg       0.86      0.86      0.86     12000\n",
      "\n",
      "LogisticRegression classification report:\n",
      "              precision    recall  f1-score   support\n",
      "\n",
      "           0       0.85      0.84      0.85      6074\n",
      "           1       0.84      0.85      0.85      5926\n",
      "\n",
      "    accuracy                           0.85     12000\n",
      "   macro avg       0.85      0.85      0.85     12000\n",
      "weighted avg       0.85      0.85      0.85     12000\n",
      "\n",
      "Decision Tree classification report:\n",
      "              precision    recall  f1-score   support\n",
      "\n",
      "           0       0.75      0.63      0.69      6074\n",
      "           1       0.68      0.79      0.73      5926\n",
      "\n",
      "    accuracy                           0.71     12000\n",
      "   macro avg       0.72      0.71      0.71     12000\n",
      "weighted avg       0.72      0.71      0.71     12000\n",
      "\n",
      "XGBoost classification report:\n",
      "              precision    recall  f1-score   support\n",
      "\n",
      "           0       0.83      0.82      0.82      6074\n",
      "           1       0.81      0.83      0.82      5926\n",
      "\n",
      "    accuracy                           0.82     12000\n",
      "   macro avg       0.82      0.82      0.82     12000\n",
      "weighted avg       0.82      0.82      0.82     12000\n",
      "\n",
      "Random Forest Classifier classification report:\n",
      "              precision    recall  f1-score   support\n",
      "\n",
      "           0       0.83      0.80      0.82      6074\n",
      "           1       0.81      0.83      0.82      5926\n",
      "\n",
      "    accuracy                           0.82     12000\n",
      "   macro avg       0.82      0.82      0.82     12000\n",
      "weighted avg       0.82      0.82      0.82     12000\n",
      "\n",
      "KNeighbours Classifier classification report:\n",
      "              precision    recall  f1-score   support\n",
      "\n",
      "           0       0.81      0.73      0.77      6074\n",
      "           1       0.75      0.82      0.79      5926\n",
      "\n",
      "    accuracy                           0.78     12000\n",
      "   macro avg       0.78      0.78      0.78     12000\n",
      "weighted avg       0.78      0.78      0.78     12000\n",
      "\n"
     ]
    }
   ],
   "source": [
    "getClassificationReport()"
   ]
  },
  {
   "cell_type": "code",
   "execution_count": null,
   "metadata": {},
   "outputs": [],
   "source": []
  }
 ],
 "metadata": {
  "kernelspec": {
   "display_name": "Python 3 (ipykernel)",
   "language": "python",
   "name": "python3"
  },
  "language_info": {
   "codemirror_mode": {
    "name": "ipython",
    "version": 3
   },
   "file_extension": ".py",
   "mimetype": "text/x-python",
   "name": "python",
   "nbconvert_exporter": "python",
   "pygments_lexer": "ipython3",
   "version": "3.9.12"
  }
 },
 "nbformat": 4,
 "nbformat_minor": 4
}
